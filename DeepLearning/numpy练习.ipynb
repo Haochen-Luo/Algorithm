x = np.array([
    [[1,8,12],
     [2,9,12]],
    [[3,8,12],
     [4,9,12]],
    [[3,8,12],
     [4,9,12]],
     [[3,8,12],
     [4,9,12]],
])
print(x[:,:,0])
print(x[:,:,1])
print(x[:,:,2])
print((x.shape))
print("求和哪一个维度，哪一维度就没了")
print()
print(x.sum(axis = 0))
print((x.sum(axis = 0)).shape)
print()
print(x.sum(axis = 1))
print((x.sum(axis = 1)).shape)
print()
print(x.sum(axis = 2))
print((x.sum(axis = 2)).shape)
